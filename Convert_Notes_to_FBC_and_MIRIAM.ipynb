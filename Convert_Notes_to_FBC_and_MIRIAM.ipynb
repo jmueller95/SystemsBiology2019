{
 "cells": [
  {
   "cell_type": "code",
   "execution_count": 1,
   "metadata": {},
   "outputs": [],
   "source": [
    "import libsbml\n",
    "import os\n",
    "\n",
    "from libsbml import CVTerm"
   ]
  },
  {
   "cell_type": "code",
   "execution_count": 2,
   "metadata": {},
   "outputs": [],
   "source": [
    "def convert(file):\n",
    "    doc = libsbml.readSBMLFromFile(file)\n",
    "    model = doc.getModel()\n",
    "\n",
    "    # enable fbc plugin\n",
    "    if not doc.isPackageEnabled(\"fbc\"):\n",
    "        doc.enablePackage(\"http://www.sbml.org/sbml/level3/version1/fbc/version2\", \"fbc\", True)\n",
    "    fbc_plugin = model.getPlugin(\"fbc\")\n",
    "    fbc_plugin.setStrict(False)\n",
    "\n",
    "    # get charge and formula from nodes, add as fbc-attribute\n",
    "    for species in model.getListOfSpecies():\n",
    "        fbc_species_plugin = species.getPlugin(\"fbc\")\n",
    "        notes = species.getNotesString()\n",
    "        splits = notes.split(\"<p>\")\n",
    "        formula = splits[1][9:].strip()[:-4].strip()\n",
    "        charge = splits[2][8:].split(\"</p>\")[0].strip()\n",
    "        if formula:\n",
    "            fbc_species_plugin.setChemicalFormula(formula)\n",
    "        if charge and charge != 'NaN':\n",
    "            fbc_species_plugin.setCharge(int(charge))\n",
    "        \n",
    "    for reaction in model.getListOfReactions():\n",
    "        fbc_reaction_plugin = reaction.getPlugin(\"fbc\")\n",
    "        reaction.setMetaId(reaction.id)\n",
    "        # get subsystem and EC number\n",
    "        notes = reaction.getNotesString()\n",
    "        splits = notes.split(\"<p>\")\n",
    "        ec_numbers = splits[3][11:].strip()[:-4]\n",
    "        \n",
    "        # biological qualifier\n",
    "        cv_term = CVTerm(1)\n",
    "        # BQB_HAS_PROPERTY\n",
    "        cv_term.setBiologicalQualifierType(10)\n",
    "        # Add enzyme comission numbers as MIRIAM identifiers\n",
    "        if ec_numbers:\n",
    "            if \",\" in ec_numbers:\n",
    "                for ec_num in ec_numbers.split(\",\"):\n",
    "                    cv_term.addResource(f\"http://identifiers.org/ec-code/{ec_num}\")\n",
    "            else:\n",
    "                cv_term.addResource(f\"http://identifiers.org/ec-code/{ec_numbers}\")\n",
    "        if cv_term.getNumResources() > 0:\n",
    "            reaction.addCVTerm(cv_term)\n",
    "    \n",
    "        # transfer flux bound information to fbc\n",
    "        kinetic_law = reaction.getKineticLaw()\n",
    "    \n",
    "        # convert local bound paramters to global parameters\n",
    "        for bound_type in [\"LOWER_BOUND\", \"UPPER_BOUND\"]:\n",
    "            bound = kinetic_law.getLocalParameter(bound_type)\n",
    "            param = libsbml.Parameter(3,1)\n",
    "            param.setConstant(True)\n",
    "            r_id = reaction.id if not reaction.id.startswith(\"R_\") else reaction.id[2:] \n",
    "            param.setId(\"{}_{}\".format(bound_type, r_id))\n",
    "            param.setName(param.getId())\n",
    "            param.setValue(bound.getValue())\n",
    "            model.addParameter(param)\n",
    "            if bound_type == \"LOWER_BOUND\":\n",
    "                fbc_reaction_plugin.setLowerFluxBound(param.id)\n",
    "            else:\n",
    "                fbc_reaction_plugin.setUpperFluxBound(param.id)\n",
    "    \n",
    "    out_file = os.path.basename(file).split(\".\")[0] + \"_fbc.xml\"\n",
    "    libsbml.writeSBMLToFile(doc, os.path.join(\"fbc\", out_file))"
   ]
  },
  {
   "cell_type": "code",
   "execution_count": 3,
   "metadata": {},
   "outputs": [],
   "source": [
    "files = [\"iPAE1146_Amino_sugar_and_nucleotide_sugar_metabolism.xml\",\n",
    "         \"iPAE1146_Lipopolysaccharide_biosynthesis.xml\",\n",
    "         \"iPAE1146_Pyrimidine_metabolism.xml\",\n",
    "         \"iPAE1146_Combined_Subsystems.xml\"]\n",
    "for file in files:\n",
    "    convert(os.path.join(\"xml\", file))"
   ]
  }
 ],
 "metadata": {
  "kernelspec": {
   "display_name": "Python 3",
   "language": "python",
   "name": "python3"
  },
  "language_info": {
   "codemirror_mode": {
    "name": "ipython",
    "version": 3
   },
   "file_extension": ".py",
   "mimetype": "text/x-python",
   "name": "python",
   "nbconvert_exporter": "python",
   "pygments_lexer": "ipython3",
   "version": "3.6.6"
  }
 },
 "nbformat": 4,
 "nbformat_minor": 2
}
