{
 "cells": [
  {
   "cell_type": "code",
   "execution_count": 72,
   "metadata": {},
   "outputs": [
    {
     "name": "stdout",
     "output_type": "stream",
     "text": [
      "Converted model to level 3, version 1\n"
     ]
    },
    {
     "data": {
      "text/plain": [
       "1"
      ]
     },
     "execution_count": 72,
     "metadata": {},
     "output_type": "execute_result"
    }
   ],
   "source": [
    "import hashlib\n",
    "import libsbml\n",
    "\n",
    "location = \"iPAE1146.xml\"\n",
    "doc = libsbml.readSBMLFromFile(location)\n",
    "model = doc.getModel()\n",
    "\n",
    "reaction_notes = dict()\n",
    "for reaction in model.getListOfReactions():\n",
    "    # get subsystem information\n",
    "    notes = reaction.getNotesString()\n",
    "    splits = notes.split(\"<p>\")\n",
    "    subsystem_info  = splits[2][10:].strip()[:-4]\n",
    "    reaction_notes[reaction.id] = subsystem_info\n",
    "\n",
    "# convert but ignore errors (constant=false for kineticLaw parameters and differently scaled units)\n",
    "doc.setLevelAndVersion(3,1, False)  \n",
    "print(f\"Converted model to level {doc.getLevel()}, version {doc.getVersion()}\")\n",
    "\n",
    "# enable and get groups plugin\n",
    "if not doc.isPackageEnabled(\"groups\"):\n",
    "    doc.enablePackage(\"http://www.sbml.org/sbml/level3/version1/groups/version1\", \"groups\", True)\n",
    "groups_plugin = model.getPlugin(\"groups\")\n",
    "\n",
    "for reaction_id, subsystem in reaction_notes.items():\n",
    "    # If not part of a subsystem, ignore\n",
    "    if subsystem == \"None\" or not subsystem:\n",
    "        continue\n",
    "        \n",
    "    # generate simple id from name string (needs a prefix, else it won't work)\n",
    "    g_id = \"s_\" + hashlib.md5(subsystem.encode()).hexdigest()\n",
    "    \n",
    "    # find or create group for subsystem\n",
    "    group = groups_plugin.getGroup(g_id)\n",
    "    if not group:\n",
    "        group = groups_plugin.createGroup()\n",
    "        # part-of relationship\n",
    "        group.setKind(\"partonomy\")\n",
    "        group.setName(subsystem)\n",
    "        group.setId(g_id)\n",
    "    else:\n",
    "        assert(group.name == subsystem)\n",
    "    # add reaction as group member    \n",
    "    member = group.createMember()\n",
    "    member.setIdRef(reaction_id)\n",
    "\n",
    "out_location = f\"{location.split('.')[0]}_with_groups.xml\"\n",
    "libsbml.writeSBMLToFile(doc, out_location)"
   ]
  }
 ],
 "metadata": {
  "kernelspec": {
   "display_name": "Python 3",
   "language": "python",
   "name": "python3"
  },
  "language_info": {
   "codemirror_mode": {
    "name": "ipython",
    "version": 3
   },
   "file_extension": ".py",
   "mimetype": "text/x-python",
   "name": "python",
   "nbconvert_exporter": "python",
   "pygments_lexer": "ipython3",
   "version": "3.6.6"
  }
 },
 "nbformat": 4,
 "nbformat_minor": 2
}
