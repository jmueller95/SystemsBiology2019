{
  "cells": [
    {
      "cell_type": "code",
      "source": [
        "import tellurium as te\n",
        "import matplotlib.pyplot as plt\n",
        "\n",
        "# function for plotting the phase portraits of a given model\n",
        "# specify metabolites_list to analyze a specific set of metabolites\n",
        "def plot_phase_portraits(model, simulation, metabolites_list):\n",
        "    model_phase_portraits = {}\n",
        "    used_metabolites = []\n",
        "    model_metabolites= model.getFloatingSpeciesIds()\n",
        "    for metabolite in metabolites_list:\n",
        "        metabolite_simulation_identifier = '[' + metabolite + ']'\n",
        "        model_phase_portraits[metabolite] = simulation[metabolite_simulation_identifier]\n",
        "    for i in metabolites_list:\n",
        "        for j in metabolites_list:\n",
        "            if i != j and j not in used_metabolites:\n",
        "                plt.figure()\n",
        "                plt.title(\"Comparison between {} and {}\".format(i,j))\n",
        "                plt.xlabel(i)\n",
        "                plt.ylabel(j)\n",
        "                plt.plot(model_phase_portraits[i], model_phase_portraits[j])\n",
        "        used_metabolites.append(i)\n"
      ],
      "outputs": [],
      "execution_count": 4,
      "metadata": {
        "collapsed": false,
        "outputHidden": false,
        "inputHidden": false
      }
    },
    {
      "cell_type": "code",
      "source": [
        "asansm_path = 'fbc/iPAE1146_Amino_sugar_and_nucleotide_sugar_metabolism_fbc_squeezed.xml'\n",
        "pm_path = 'fbc/iPAE1146_Pyrimidine_metabolism_fbc_squeezed.xml'\n",
        "lb_path = 'fbc/iPAE1146_Lipopolysaccharide_biosynthesis_fbc_squeezed.xml'\n",
        "combined_model_path = 'fbc/iPAE1146_Combined_Subsystems_fbc_squeezed.xml'\n",
        "\n",
        "asansm_model = te.loadSBMLModel(asansm_path)\n",
        "pm_model = te.loadSBMLModel(pm_path)\n",
        "lb_model = te.loadSBMLModel(lb_path)\n",
        "combined_model = te.loadSBMLModel(combined_model_path)\n"
      ],
      "outputs": [],
      "execution_count": 3,
      "metadata": {
        "collapsed": false,
        "outputHidden": false,
        "inputHidden": false
      }
    },
    {
      "cell_type": "code",
      "source": [
        "asansm_model.reset()\n",
        "asansm_simulation = asansm_model.simulate(0,100,1000)\n",
        "asansm_model.plot(asansm_simulation)\n",
        "\n",
        "asansm_model.getSteadyStateValues()\n",
        "# asansm_phase_metabolites = [] # insert the metabolites to be considered in the phase portraits\n",
        "\n# plot_phase_portraits(asansm_model, asansm_simulation, asansm_phase_metabolites)"
      ],
      "outputs": [],
      "execution_count": null,
      "metadata": {
        "collapsed": false,
        "outputHidden": false,
        "inputHidden": false
      }
    },
    {
      "cell_type": "code",
      "source": [
        "pm_model.reset()\n",
        "pm_simulation = pm_model.simulate(0,100,1000)\n",
        "pm_model.plot(pm_simulation)\n",
        "\n",
        "pm_model.getSteadyStateValues()\n",
        "\n# plot_phase_portraits(pm_model, pm_simulation)"
      ],
      "outputs": [],
      "execution_count": 3,
      "metadata": {
        "collapsed": false,
        "outputHidden": false,
        "inputHidden": false
      }
    },
    {
      "cell_type": "code",
      "source": [
        "lb_model.reset()\n",
        "lb_simulation = lb_model.simulate(0,100,1000)\n",
        "lb_model.plot(lb_simulation)\n",
        "\n",
        "lb_model.getSteadyStateValues()\n",
        "\n# plot_phase_portraits(lb_model, lb_simulation)"
      ],
      "outputs": [],
      "execution_count": 3,
      "metadata": {
        "collapsed": false,
        "outputHidden": false,
        "inputHidden": false
      }
    },
    {
      "cell_type": "code",
      "source": [
        "combined_model.reset()\n",
        "combined_model_simulation = combined_model.simulate(0,100,1000)\n",
        "combined_model.plot(combined_model_simulation)\n",
        "\n",
        "combined_model.getSteadyStateValues()\n",
        "\n# plot_phase_portraits(combined_model, combined_model_simulation)"
      ],
      "outputs": [],
      "execution_count": 3,
      "metadata": {
        "collapsed": false,
        "outputHidden": false,
        "inputHidden": false
      }
    },
    {
      "cell_type": "code",
      "source": [],
      "outputs": [],
      "execution_count": 3,
      "metadata": {
        "collapsed": false,
        "outputHidden": false,
        "inputHidden": false
      }
    },
    {
      "cell_type": "code",
      "source": [],
      "outputs": [],
      "execution_count": null,
      "metadata": {
        "collapsed": false,
        "outputHidden": false,
        "inputHidden": false
      }
    }
  ],
  "metadata": {
    "kernelspec": {
      "name": "python3",
      "language": "python",
      "display_name": "Python 3 (built-in)"
    },
    "kernel_info": {
      "name": "python3"
    },
    "language_info": {
      "name": "python",
      "version": "3.6.2",
      "mimetype": "text/x-python",
      "codemirror_mode": {
        "name": "ipython",
        "version": 3
      },
      "pygments_lexer": "ipython3",
      "nbconvert_exporter": "python",
      "file_extension": ".py"
    }
  },
  "nbformat": 4,
  "nbformat_minor": 4
}
