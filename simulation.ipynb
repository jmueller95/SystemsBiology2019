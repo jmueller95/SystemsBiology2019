{
 "cells": [
  {
   "cell_type": "code",
   "execution_count": 4,
   "metadata": {
    "collapsed": false,
    "outputHidden": false,
    "inputHidden": false
   },
   "outputs": [],
   "source": [
    "import tellurium as te\n",
    "import matplotlib.pyplot as plt\n",
    "import libsbml\n",
    "\n",
    "\n",
    "# function for plotting the phase portraits of a given model\n",
    "# specify metabolites_list to analyze a specific set of metabolites\n",
    "def plot_phase_portraits(model, model_name, simulation, metabolites_list, outpath):\n",
    "    model_phase_portraits = {}\n",
    "    used_metabolites = []\n",
    "    for metabolite in metabolites_list:\n",
    "        metabolite_simulation_identifier = '[' + metabolite + ']'\n",
    "        model_phase_portraits[metabolite] = simulation[metabolite_simulation_identifier]\n",
    "    for i in metabolites_list:\n",
    "        for j in metabolites_list:\n",
    "            if i != j and j not in used_metabolites:\n",
    "                i_name = model.getSpecies(i).getName()\n",
    "                j_name = model.getSpecies(j).getName()\n",
    "                plt.figure()\n",
    "                plt.title(\"Comparison between {} and {} [{}]\".format(i_name, j_name, model_name))\n",
    "                plt.xlabel(i_name)\n",
    "                plt.ylabel(j_name)\n",
    "                plt.plot(model_phase_portraits[i], model_phase_portraits[j])\n",
    "                plt.savefig(outpath + \"_\" + i_name + \"_vs_\" + j_name + \".png\")\n",
    "                plt.show()\n",
    "        used_metabolites.append(i)\n",
    "\n",
    "\n",
    "def plot_pool_transient(simulation, title, phase_tuples, outpath):\n",
    "    pool = 0\n",
    "    for coefficient, metabolite in phase_tuples:\n",
    "        metabolite_simulation_identifier = '[' + metabolite + ']'\n",
    "        pool += coefficient * simulation[metabolite_simulation_identifier]\n",
    "    plt.figure()\n",
    "    plt.title(title)\n",
    "    plt.xlabel('t')\n",
    "    plt.plot(pool)\n",
    "    plt.savefig(outpath)\n",
    "    plt.show()\n",
    "\n",
    "\n",
    "def plot_pool_phase_portrait(simulation, title, phase_tuple1, name1, phase_tuple2, name2, outpath):\n",
    "    pool1 = 0\n",
    "    for coefficient, metabolite in phase_tuple1:\n",
    "        metabolite_simulation_identifier = '[' + metabolite + ']'\n",
    "        pool1 += coefficient * simulation[metabolite_simulation_identifier]\n",
    "\n",
    "    pool2 = 0\n",
    "    for coefficient, metabolite in phase_tuple2:\n",
    "        metabolite_simulation_identifier = '[' + metabolite + ']'\n",
    "        pool2 += coefficient * simulation[metabolite_simulation_identifier]\n",
    "    plt.figure()\n",
    "    plt.title(title)\n",
    "    plt.xlabel(name1)\n",
    "    plt.ylabel(name2)\n",
    "    plt.plot(pool1, pool2)\n",
    "    plt.savefig(outpath)\n",
    "    plt.show()\n"
   ]
  },
  {
   "cell_type": "code",
   "execution_count": 3,
   "metadata": {
    "collapsed": false,
    "outputHidden": false,
    "inputHidden": false
   },
   "outputs": [],
   "source": [
    "asansm_path = 'fbc/iPAE1146_Amino_sugar_and_nucleotide_sugar_metabolism_fbc_squeezed.xml'\n",
    "pm_path = 'fbc/iPAE1146_Pyrimidine_metabolism_fbc_squeezed.xml'\n",
    "lb_path = 'fbc/iPAE1146_Lipopolysaccharide_biosynthesis_fbc_squeezed.xml'\n",
    "combined_model_path = 'fbc/iPAE1146_Combined_Subsystems_fbc_squeezed.xml'\n",
    "\n",
    "asansm_libsbml_doc = libsbml.readSBML(asansm_path)\n",
    "asansm_libsbml = asansm_libsbml_doc.getModel()\n",
    "asansm_model = te.loadSBMLModel(asansm_path)\n",
    "pm_model = te.loadSBMLModel(pm_path)\n",
    "lb_model = te.loadSBMLModel(lb_path)\n",
    "combined_model = te.loadSBMLModel(combined_model_path)\n"
   ]
  },
  {
   "cell_type": "code",
   "execution_count": null,
   "metadata": {
    "collapsed": false,
    "outputHidden": false,
    "inputHidden": false
   },
   "outputs": [],
   "source": [
    "\n",
    "asansm_model.reset()\n",
    "asansm_simulation = asansm_model.simulate(0, 1000, 1000)\n",
    "# asansm_model.plot(asansm_simulation)\n",
    "\n",
    "# asansm_model.getSteadyStateValues()\n",
    "asansm_phase_metabolites = ['M_cpd00003_c', 'M_cpd17092_c',\n",
    "                            'M_cpd00004_c']  # insert the metabolites to be considered in the phase portraits\n",
    "\n",
    "# plot_phase_portraits(asansm_libsbml, \"ASANSM\", asansm_simulation, asansm_phase_metabolites, \"plots/asansm\")\n",
    "asansm_phase_pools = [(-2, 'M_cpd00003_c'),\n",
    "                      (-1, 'M_cpd00004_c')]  # insert the metabolites to be considered in the phase portraits\n",
    "\n",
    "plot_pool_transient(asansm_simulation, \"Pool: -2A-1B [ASANSM]\", asansm_phase_pools, \"plots/asansm_pool.png\")\n",
    "\n",
    "pool1 = asansm_phase_pools\n",
    "pool2 = [(3, 'M_cpd17092_c'), (1, 'M_cpd00004_c')]\n",
    "plot_pool_phase_portrait(asansm_simulation, \"P1 vs. P2 [ASANSM]\", pool1, \"P1\", pool2, \"P2\", \"plots/asansm_p1vsp2.png\")\n",
    "\n",
    "#TODO: T=0 and T->inf annotations"
   ]
  },
  {
   "cell_type": "code",
   "execution_count": 3,
   "metadata": {
    "collapsed": false,
    "outputHidden": false,
    "inputHidden": false
   },
   "outputs": [],
   "source": [
    "pm_model.reset()\n",
    "pm_simulation = pm_model.simulate(0,100,1000)\n",
    "pm_model.plot(pm_simulation)\n",
    "\n",
    "pm_model.getSteadyStateValues()\n",
    "\n",
    "# plot_phase_portraits(pm_model, pm_simulation)"
   ]
  },
  {
   "cell_type": "code",
   "execution_count": 3,
   "metadata": {
    "collapsed": false,
    "outputHidden": false,
    "inputHidden": false
   },
   "outputs": [],
   "source": [
    "lb_model.reset()\n",
    "lb_simulation = lb_model.simulate(0,100,1000)\n",
    "lb_model.plot(lb_simulation)\n",
    "\n",
    "lb_model.getSteadyStateValues()\n",
    "\n",
    "# plot_phase_portraits(lb_model, lb_simulation)"
   ]
  },
  {
   "cell_type": "code",
   "execution_count": 3,
   "metadata": {
    "collapsed": false,
    "outputHidden": false,
    "inputHidden": false
   },
   "outputs": [],
   "source": [
    "combined_model.reset()\n",
    "combined_model_simulation = combined_model.simulate(0,100,1000)\n",
    "combined_model.plot(combined_model_simulation)\n",
    "\n",
    "combined_model.getSteadyStateValues()\n",
    "\n",
    "# plot_phase_portraits(combined_model, combined_model_simulation)"
   ]
  },
  {
   "cell_type": "code",
   "execution_count": 3,
   "metadata": {
    "collapsed": false,
    "outputHidden": false,
    "inputHidden": false
   },
   "outputs": [],
   "source": []
  },
  {
   "cell_type": "code",
   "execution_count": null,
   "metadata": {
    "collapsed": false,
    "outputHidden": false,
    "inputHidden": false
   },
   "outputs": [],
   "source": []
  }
 ],
 "metadata": {
  "kernelspec": {
   "name": "python3",
   "language": "python",
   "display_name": "Python 3 (built-in)"
  },
  "kernel_info": {
   "name": "python3"
  },
  "language_info": {
   "name": "python",
   "version": "3.6.2",
   "mimetype": "text/x-python",
   "codemirror_mode": {
    "name": "ipython",
    "version": 3
   },
   "pygments_lexer": "ipython3",
   "nbconvert_exporter": "python",
   "file_extension": ".py"
  }
 },
 "nbformat": 4,
 "nbformat_minor": 4
}
